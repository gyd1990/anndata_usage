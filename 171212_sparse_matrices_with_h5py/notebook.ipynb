{
 "cells": [
  {
   "cell_type": "markdown",
   "metadata": {},
   "source": [
    "# Sparse matrices with h5py"
   ]
  },
  {
   "cell_type": "markdown",
   "metadata": {},
   "source": [
    "*Published: [December 12, 2017](https://github.com/theislab/anndata_usage/tree/master/171212_sparse_matrices_with_h5py/README.ipynb?history=True). [Download](https://github.com/theislab/anndata_usage/tree/master/171212_sparse_matrices_with_h5py/README.ipynb?raw=True) or [view](https://github.com/theislab/anndata_usage/tree/master/171212_sparse_matrices_with_h5py/README.ipynb) executable source.*"
   ]
  },
  {
   "cell_type": "markdown",
   "metadata": {},
   "source": [
    "<img src=\"http://www.h5py.org/cat.gif\" style=\"height: 100px; margin: 5px 10px 5px 0px\" align=\"right\">\n",
    "\n",
    "[HDF5](https://en.wikipedia.org/wiki/Hierarchical_Data_Format) is an established cross-platform, cross-language binary dataformat, allowing fast and partial loading of data from disk into memory. [h5py](http://www.h5py.org/) is the established Python API for interacting with HDF5 files (the image shows the book of the lead author). However, neither h5py, nor the popular high-level interface to h5py, [pytables](http://www.pytables.org/), provide support for sparse matrices.\n",
    "\n",
    "Within the single-cell genomics community, work arounds have been proposed: earlier this year, [10X Genomics](https://www.10xgenomics.com/) and [Scanpy](https://scanpy.readthedocs.io) adapted the [CSR/CSC/Yale](https://en.wikipedia.org/wiki/Sparse_matrix#Compressed_sparse_row_(CSR,_CRS_or_Yale_format)) for HDF5 storage in a static way, later [loompy](http://loompy.org/) suggested to dynamically load matrices using the [COO](https://en.wikipedia.org/wiki/Sparse_matrix#Coordinate_list_(COO)) format. However no conventions on how different API's would recognize these objects have been established.\n",
    "\n",
    "Here, I suggest to adapt the [h5sparse](https://github.com/appier/h5sparse) convention suggested by [Appier, Inc.](https://www.appier.com/) earlier this year. The idea is to mark conventional HDF5 groups using two attributes\n",
    "\n",
    "- the storage format of the sparse matrix: `h5sparse_format`\n",
    "- the shape of the sparse matrix: `h5sparse_shape`\n",
    "\n",
    "These are sufficient to recoqnize a group as a sparse matrix of a specific format and shape.  Here, we introduce [`anndata.h5py`](http://anndata.readthedocs.io/en/latest/anndata.h5py.html), a thin layer for h5py that offers all functionality of h5py and is able to efficiently handle HDF5 files that store both dense and sparse data in different formats. The original [h5sparse](https://pypi.python.org/pypi/h5sparse/0.0.4), by contrast, follows different design principles and only allows to deal with HDF5 files that solely contain sparse data with limited indexing options."
   ]
  },
  {
   "cell_type": "code",
   "execution_count": 7,
   "metadata": {
    "collapsed": false
   },
   "outputs": [],
   "source": [
    "import numpy as np\n",
    "from scipy.sparse import csr_matrix, csc_matrix\n",
    "from anndata import h5py, logging"
   ]
  },
  {
   "cell_type": "markdown",
   "metadata": {},
   "source": [
    "## Indexing data on disk as in memory"
   ]
  },
  {
   "cell_type": "code",
   "execution_count": 3,
   "metadata": {
    "collapsed": false
   },
   "outputs": [],
   "source": [
    "X_array = np.array(\n",
    "    [[0, 1, 0],\n",
    "     [0, 0, 2],\n",
    "     [0, 0, 0],\n",
    "     [3, 4, 0]])\n",
    "# make this a sparse matrix\n",
    "X = csr_matrix(X_array)"
   ]
  },
  {
   "cell_type": "code",
   "execution_count": 4,
   "metadata": {
    "collapsed": false
   },
   "outputs": [
    {
     "data": {
      "text/plain": [
       "<4x3 sparse matrix of type '<class 'numpy.int64'>'\n",
       "\twith 4 stored elements in Compressed Sparse Row format>"
      ]
     },
     "execution_count": 4,
     "metadata": {},
     "output_type": "execute_result"
    }
   ],
   "source": [
    "X"
   ]
  },
  {
   "cell_type": "markdown",
   "metadata": {},
   "source": [
    "Show it's entries."
   ]
  },
  {
   "cell_type": "code",
   "execution_count": 5,
   "metadata": {
    "collapsed": false
   },
   "outputs": [
    {
     "name": "stdout",
     "output_type": "stream",
     "text": [
      "  (0, 1)\t1\n",
      "  (1, 2)\t2\n",
      "  (3, 0)\t3\n",
      "  (3, 1)\t4\n"
     ]
    }
   ],
   "source": [
    "print(X)"
   ]
  },
  {
   "cell_type": "code",
   "execution_count": 9,
   "metadata": {
    "collapsed": false
   },
   "outputs": [
    {
     "data": {
      "text/plain": [
       "array([[1, 0],\n",
       "       [0, 2],\n",
       "       [0, 0],\n",
       "       [4, 0]])"
      ]
     },
     "execution_count": 9,
     "metadata": {},
     "output_type": "execute_result"
    }
   ],
   "source": [
    "X[:, 1:3].toarray()"
   ]
  },
  {
   "cell_type": "markdown",
   "metadata": {},
   "source": [
    "Now, let's open a file and create an [`h5py.SparseDataset`](http://anndata.readthedocs.io/en/latest/anndata.h5py.SparseDataset.html#anndata.h5py.SparseDataset)."
   ]
  },
  {
   "cell_type": "code",
   "execution_count": 8,
   "metadata": {
    "collapsed": true
   },
   "outputs": [],
   "source": [
    "f = h5py.File('./test.h5')"
   ]
  },
  {
   "cell_type": "code",
   "execution_count": 9,
   "metadata": {
    "collapsed": false
   },
   "outputs": [
    {
     "data": {
      "text/plain": [
       "<HDF5 sparse dataset: format 'csr', shape (4, 3), type '<i8'>"
      ]
     },
     "execution_count": 9,
     "metadata": {},
     "output_type": "execute_result"
    }
   ],
   "source": [
    "f.create_dataset('X', data=X)"
   ]
  },
  {
   "cell_type": "code",
   "execution_count": 10,
   "metadata": {
    "collapsed": false
   },
   "outputs": [
    {
     "data": {
      "text/plain": [
       "array([[1, 0],\n",
       "       [0, 2],\n",
       "       [0, 0],\n",
       "       [4, 0]])"
      ]
     },
     "execution_count": 10,
     "metadata": {},
     "output_type": "execute_result"
    }
   ],
   "source": [
    "f['X'][:, 1:3].toarray()"
   ]
  },
  {
   "cell_type": "code",
   "execution_count": 11,
   "metadata": {
    "collapsed": false
   },
   "outputs": [
    {
     "data": {
      "text/plain": [
       "array([[0, 1, 0],\n",
       "       [3, 4, 0]], dtype=int64)"
      ]
     },
     "execution_count": 11,
     "metadata": {},
     "output_type": "execute_result"
    }
   ],
   "source": [
    "f['X'][np.array([True, False, False, True])].toarray()"
   ]
  },
  {
   "cell_type": "markdown",
   "metadata": {},
   "source": [
    "Just check that we can do the same with the array."
   ]
  },
  {
   "cell_type": "code",
   "execution_count": 12,
   "metadata": {
    "collapsed": false
   },
   "outputs": [
    {
     "data": {
      "text/plain": [
       "<HDF5 dataset \"X_array\": shape (4, 3), type \"<i8\">"
      ]
     },
     "execution_count": 12,
     "metadata": {},
     "output_type": "execute_result"
    }
   ],
   "source": [
    "f.create_dataset('X_array', data=X_array)"
   ]
  },
  {
   "cell_type": "code",
   "execution_count": 13,
   "metadata": {
    "collapsed": true
   },
   "outputs": [],
   "source": [
    "f.close()"
   ]
  },
  {
   "cell_type": "markdown",
   "metadata": {},
   "source": [
    "Looking into the file reveals the following structure."
   ]
  },
  {
   "cell_type": "code",
   "execution_count": 14,
   "metadata": {
    "collapsed": false
   },
   "outputs": [
    {
     "name": "stdout",
     "output_type": "stream",
     "text": [
      "/                        Group\r\n",
      "/X                       Group\r\n",
      "/X/data                  Dataset {4}\r\n",
      "/X/indices               Dataset {4}\r\n",
      "/X/indptr                Dataset {5}\r\n",
      "/X_array                 Dataset {4, 3}\r\n"
     ]
    }
   ],
   "source": [
    "!h5ls -r './test.h5'"
   ]
  },
  {
   "cell_type": "markdown",
   "metadata": {},
   "source": [
    "The group that stores the sparse matrix is marked by the two attributes `h5sparse_format` and `h5sparse_shape`:"
   ]
  },
  {
   "cell_type": "code",
   "execution_count": 15,
   "metadata": {
    "collapsed": false
   },
   "outputs": [
    {
     "name": "stdout",
     "output_type": "stream",
     "text": [
      "Opened \"./test.h5\" with sec2 driver.\r\n",
      "X                        Group\r\n",
      "    Attribute: h5sparse_format scalar\r\n",
      "        Type:      variable-length null-terminated UTF-8 string\r\n",
      "        Data:  \"csr\"\r\n",
      "    Attribute: h5sparse_shape {2}\r\n",
      "        Type:      native long\r\n",
      "        Data:  4, 3\r\n",
      "    Location:  1:800\r\n",
      "    Links:     1\r\n",
      "X_array                  Dataset {4/4, 3/3}\r\n",
      "    Location:  1:7384\r\n",
      "    Links:     1\r\n",
      "    Storage:   96 logical bytes, 96 allocated bytes, 100.00% utilization\r\n",
      "    Type:      native long\r\n"
     ]
    }
   ],
   "source": [
    "!h5ls -v './test.h5'"
   ]
  },
  {
   "cell_type": "markdown",
   "metadata": {},
   "source": [
    "## Memory profiling"
   ]
  },
  {
   "cell_type": "markdown",
   "metadata": {},
   "source": [
    "Let us perform some memory profiling to see whether we really gained something."
   ]
  },
  {
   "cell_type": "code",
   "execution_count": 12,
   "metadata": {
    "collapsed": false
   },
   "outputs": [
    {
     "name": "stdout",
     "output_type": "stream",
     "text": [
      "Memory usage: current 0.07 GB, difference +0.07 GB\n"
     ]
    }
   ],
   "source": [
    "logging.print_memory_usage()"
   ]
  },
  {
   "cell_type": "code",
   "execution_count": 13,
   "metadata": {
    "collapsed": true
   },
   "outputs": [],
   "source": [
    "X = csr_matrix(np.ones((10000, 10000)))"
   ]
  },
  {
   "cell_type": "markdown",
   "metadata": {},
   "source": [
    "This is a really boring, really large matrix filled with $10^8$ ones."
   ]
  },
  {
   "cell_type": "code",
   "execution_count": 14,
   "metadata": {
    "collapsed": false
   },
   "outputs": [
    {
     "data": {
      "text/plain": [
       "<10000x10000 sparse matrix of type '<class 'numpy.float64'>'\n",
       "\twith 100000000 stored elements in Compressed Sparse Row format>"
      ]
     },
     "execution_count": 14,
     "metadata": {},
     "output_type": "execute_result"
    }
   ],
   "source": [
    "X"
   ]
  },
  {
   "cell_type": "markdown",
   "metadata": {},
   "source": [
    "It takes about 1.12 GB in memory."
   ]
  },
  {
   "cell_type": "code",
   "execution_count": 15,
   "metadata": {
    "collapsed": false
   },
   "outputs": [
    {
     "name": "stdout",
     "output_type": "stream",
     "text": [
      "Memory usage: current 1.19 GB, difference +1.12 GB\n"
     ]
    }
   ],
   "source": [
    "logging.print_memory_usage()"
   ]
  },
  {
   "cell_type": "code",
   "execution_count": 16,
   "metadata": {
    "collapsed": true
   },
   "outputs": [],
   "source": [
    "f = h5py.File('./test1.h5')"
   ]
  },
  {
   "cell_type": "code",
   "execution_count": 17,
   "metadata": {
    "collapsed": false
   },
   "outputs": [
    {
     "data": {
      "text/plain": [
       "<HDF5 sparse dataset: format 'csr', shape (10000, 10000), type '<f8'>"
      ]
     },
     "execution_count": 17,
     "metadata": {},
     "output_type": "execute_result"
    }
   ],
   "source": [
    "f.create_dataset('X', data=X)"
   ]
  },
  {
   "cell_type": "code",
   "execution_count": 18,
   "metadata": {
    "collapsed": false
   },
   "outputs": [
    {
     "name": "stdout",
     "output_type": "stream",
     "text": [
      "Memory usage: current 1.19 GB, difference +0.00 GB\n"
     ]
    }
   ],
   "source": [
    "logging.print_memory_usage()"
   ]
  },
  {
   "cell_type": "code",
   "execution_count": 39,
   "metadata": {
    "collapsed": true
   },
   "outputs": [],
   "source": [
    "f.close()"
   ]
  },
  {
   "cell_type": "markdown",
   "metadata": {},
   "source": [
    "Make sure the memory is actually freed by restarting the notebook, let's start over."
   ]
  },
  {
   "cell_type": "code",
   "execution_count": 4,
   "metadata": {
    "collapsed": false
   },
   "outputs": [],
   "source": [
    "f = h5py.File('./test1.h5')"
   ]
  },
  {
   "cell_type": "code",
   "execution_count": 5,
   "metadata": {
    "collapsed": false
   },
   "outputs": [
    {
     "name": "stdout",
     "output_type": "stream",
     "text": [
      "Memory usage: current 0.07 GB, difference +0.00 GB\n"
     ]
    }
   ],
   "source": [
    "logging.print_memory_usage()"
   ]
  },
  {
   "cell_type": "code",
   "execution_count": 6,
   "metadata": {
    "collapsed": false
   },
   "outputs": [
    {
     "data": {
      "text/plain": [
       "<4x10000 sparse matrix of type '<class 'numpy.float64'>'\n",
       "\twith 40000 stored elements in Compressed Sparse Row format>"
      ]
     },
     "execution_count": 6,
     "metadata": {},
     "output_type": "execute_result"
    }
   ],
   "source": [
    "f['X'][1:5]"
   ]
  },
  {
   "cell_type": "code",
   "execution_count": 7,
   "metadata": {
    "collapsed": false
   },
   "outputs": [
    {
     "name": "stdout",
     "output_type": "stream",
     "text": [
      "Memory usage: current 0.07 GB, difference +0.00 GB\n"
     ]
    }
   ],
   "source": [
    "logging.print_memory_usage()"
   ]
  },
  {
   "cell_type": "code",
   "execution_count": 8,
   "metadata": {
    "collapsed": false
   },
   "outputs": [
    {
     "data": {
      "text/plain": [
       "<4x10000 sparse matrix of type '<class 'numpy.float64'>'\n",
       "\twith 40000 stored elements in Compressed Sparse Row format>"
      ]
     },
     "execution_count": 8,
     "metadata": {},
     "output_type": "execute_result"
    }
   ],
   "source": [
    "f['X'][[1, 5, 10, 13]]"
   ]
  },
  {
   "cell_type": "code",
   "execution_count": 9,
   "metadata": {
    "collapsed": false
   },
   "outputs": [
    {
     "name": "stdout",
     "output_type": "stream",
     "text": [
      "Memory usage: current 0.07 GB, difference +0.00 GB\n"
     ]
    }
   ],
   "source": [
    "logging.print_memory_usage()"
   ]
  },
  {
   "cell_type": "markdown",
   "metadata": {},
   "source": [
    "Only when loading the full object into memory, we again observe an 1.12 GB increase."
   ]
  },
  {
   "cell_type": "code",
   "execution_count": 10,
   "metadata": {
    "collapsed": false
   },
   "outputs": [
    {
     "data": {
      "text/plain": [
       "<10000x10000 sparse matrix of type '<class 'numpy.float64'>'\n",
       "\twith 100000000 stored elements in Compressed Sparse Row format>"
      ]
     },
     "execution_count": 10,
     "metadata": {},
     "output_type": "execute_result"
    }
   ],
   "source": [
    "f['X'][:]"
   ]
  },
  {
   "cell_type": "code",
   "execution_count": 11,
   "metadata": {
    "collapsed": false
   },
   "outputs": [
    {
     "name": "stdout",
     "output_type": "stream",
     "text": [
      "Memory usage: current 1.19 GB, difference +1.12 GB\n"
     ]
    }
   ],
   "source": [
    "logging.print_memory_usage()"
   ]
  },
  {
   "cell_type": "markdown",
   "metadata": {},
   "source": [
    "### In the context of an AnnData object"
   ]
  },
  {
   "cell_type": "markdown",
   "metadata": {},
   "source": [
    "Initializing an AnnData object with a sparse matrix in memory mode."
   ]
  },
  {
   "cell_type": "code",
   "execution_count": 3,
   "metadata": {
    "collapsed": false
   },
   "outputs": [],
   "source": [
    "adata = AnnData(X_array)"
   ]
  },
  {
   "cell_type": "code",
   "execution_count": 4,
   "metadata": {
    "collapsed": false
   },
   "outputs": [
    {
     "data": {
      "text/plain": [
       "array([[ 0.,  1.,  0.],\n",
       "       [ 0.,  0.,  2.],\n",
       "       [ 0.,  0.,  0.],\n",
       "       [ 3.,  4.,  0.]], dtype=float32)"
      ]
     },
     "execution_count": 4,
     "metadata": {},
     "output_type": "execute_result"
    }
   ],
   "source": [
    "adata.X"
   ]
  },
  {
   "cell_type": "code",
   "execution_count": 5,
   "metadata": {
    "collapsed": true
   },
   "outputs": [],
   "source": [
    "adata.X = csr_matrix(X_array)"
   ]
  },
  {
   "cell_type": "code",
   "execution_count": 6,
   "metadata": {
    "collapsed": false
   },
   "outputs": [
    {
     "data": {
      "text/plain": [
       "<4x3 sparse matrix of type '<class 'numpy.int64'>'\n",
       "\twith 4 stored elements in Compressed Sparse Row format>"
      ]
     },
     "execution_count": 6,
     "metadata": {},
     "output_type": "execute_result"
    }
   ],
   "source": [
    "adata.X"
   ]
  },
  {
   "cell_type": "markdown",
   "metadata": {},
   "source": [
    "Chanching to \"backed\" mode by setting a backing filename."
   ]
  },
  {
   "cell_type": "code",
   "execution_count": 7,
   "metadata": {
    "collapsed": false
   },
   "outputs": [],
   "source": [
    "adata.filename = './test3.h5ad'"
   ]
  },
  {
   "cell_type": "code",
   "execution_count": 8,
   "metadata": {
    "collapsed": false
   },
   "outputs": [
    {
     "data": {
      "text/plain": [
       "<HDF5 sparse dataset: format 'csr', shape (4, 3), type '<i8'>"
      ]
     },
     "execution_count": 8,
     "metadata": {},
     "output_type": "execute_result"
    }
   ],
   "source": [
    "adata.X"
   ]
  },
  {
   "cell_type": "code",
   "execution_count": 9,
   "metadata": {
    "collapsed": false
   },
   "outputs": [
    {
     "data": {
      "text/plain": [
       "array([[0, 1, 0],\n",
       "       [0, 0, 2]])"
      ]
     },
     "execution_count": 9,
     "metadata": {},
     "output_type": "execute_result"
    }
   ],
   "source": [
    "adata.X[0:2].toarray()"
   ]
  },
  {
   "cell_type": "markdown",
   "metadata": {},
   "source": [
    "Changing from csr to csc of the file."
   ]
  },
  {
   "cell_type": "code",
   "execution_count": 10,
   "metadata": {
    "collapsed": false
   },
   "outputs": [],
   "source": [
    "adata.X = csc_matrix(X_array)"
   ]
  },
  {
   "cell_type": "code",
   "execution_count": 11,
   "metadata": {
    "collapsed": false
   },
   "outputs": [
    {
     "data": {
      "text/plain": [
       "<HDF5 sparse dataset: format 'csc', shape (4, 3), type '<i8'>"
      ]
     },
     "execution_count": 11,
     "metadata": {},
     "output_type": "execute_result"
    }
   ],
   "source": [
    "adata.X"
   ]
  },
  {
   "cell_type": "code",
   "execution_count": 12,
   "metadata": {
    "collapsed": false
   },
   "outputs": [
    {
     "data": {
      "text/plain": [
       "array([[0, 1, 0],\n",
       "       [0, 0, 2]])"
      ]
     },
     "execution_count": 12,
     "metadata": {},
     "output_type": "execute_result"
    }
   ],
   "source": [
    "adata.X[0:2].toarray()"
   ]
  },
  {
   "cell_type": "code",
   "execution_count": 13,
   "metadata": {
    "collapsed": false
   },
   "outputs": [
    {
     "name": "stdout",
     "output_type": "stream",
     "text": [
      "Opened \"./test3.h5ad\" with sec2 driver.\r\n",
      "/                        Group\r\n",
      "    Location:  1:96\r\n",
      "    Links:     1\r\n",
      "/X                       Group\r\n",
      "    Attribute: h5sparse_format scalar\r\n",
      "        Type:      variable-length null-terminated UTF-8 string\r\n",
      "        Data:  \"csr\"\r\n",
      "    Attribute: h5sparse_shape {2}\r\n",
      "        Type:      native long\r\n",
      "        Data:  4, 3\r\n",
      "    Location:  1:20456\r\n",
      "    Links:     1\r\n",
      "/X/data                  Dataset {4/4}\r\n",
      "    Location:  1:21376\r\n",
      "    Links:     1\r\n",
      "    Chunks:    {4} 32 bytes\r\n",
      "    Storage:   32 logical bytes, 19 allocated bytes, 168.42% utilization\r\n",
      "    Filter-0:  deflate-1 OPT {4}\r\n",
      "    Type:      native long\r\n",
      "/X/indices               Dataset {4/4}\r\n",
      "    Location:  1:21976\r\n",
      "    Links:     1\r\n",
      "    Chunks:    {4} 16 bytes\r\n",
      "    Storage:   16 logical bytes, 18 allocated bytes, 88.89% utilization\r\n",
      "    Filter-0:  deflate-1 OPT {4}\r\n",
      "    Type:      native int\r\n",
      "/X/indptr                Dataset {5/5}\r\n",
      "    Location:  1:32840\r\n",
      "    Links:     1\r\n",
      "    Chunks:    {5} 20 bytes\r\n",
      "    Storage:   20 logical bytes, 19 allocated bytes, 105.26% utilization\r\n",
      "    Filter-0:  deflate-1 OPT {4}\r\n",
      "    Type:      native int\r\n",
      "/obs                     Dataset {4/4}\r\n",
      "    Location:  1:15720\r\n",
      "    Links:     1\r\n",
      "    Chunks:    {4} 4 bytes\r\n",
      "    Storage:   4 logical bytes, 12 allocated bytes, 33.33% utilization\r\n",
      "    Filter-0:  deflate-1 OPT {4}\r\n",
      "    Type:      struct {\r\n",
      "                   \"index\"            +0    1-byte null-padded ASCII string\r\n",
      "               } 1 byte\r\n",
      "/var                     Dataset {3/3}\r\n",
      "    Location:  1:18088\r\n",
      "    Links:     1\r\n",
      "    Chunks:    {3} 3 bytes\r\n",
      "    Storage:   3 logical bytes, 11 allocated bytes, 27.27% utilization\r\n",
      "    Filter-0:  deflate-1 OPT {4}\r\n",
      "    Type:      struct {\r\n",
      "                   \"index\"            +0    1-byte null-padded ASCII string\r\n",
      "               } 1 byte\r\n"
     ]
    }
   ],
   "source": [
    "!h5ls -rv './test3.h5ad'"
   ]
  }
 ],
 "metadata": {
  "anaconda-cloud": {},
  "kernelspec": {
   "display_name": "Python [default]",
   "language": "python",
   "name": "python3"
  },
  "language_info": {
   "codemirror_mode": {
    "name": "ipython",
    "version": 3
   },
   "file_extension": ".py",
   "mimetype": "text/x-python",
   "name": "python",
   "nbconvert_exporter": "python",
   "pygments_lexer": "ipython3",
   "version": "3.5.2"
  }
 },
 "nbformat": 4,
 "nbformat_minor": 2
}
